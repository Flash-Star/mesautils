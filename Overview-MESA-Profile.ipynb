{
 "cells": [
  {
   "cell_type": "code",
   "execution_count": 1,
   "metadata": {
    "collapsed": true
   },
   "outputs": [],
   "source": [
    "# Import some numerical math and plotting packages\n",
    "import numpy as np\n",
    "import matplotlib.pyplot as plt\n",
    "%matplotlib inline\n",
    "\n",
    "# Import the MesaProfile package\n",
    "from MesaProfile import MesaProfile\n",
    "\n",
    "# Import the OrderedDict package for working with MesaProfile outputs\n",
    "from collections import OrderedDict"
   ]
  },
  {
   "cell_type": "code",
   "execution_count": 2,
   "metadata": {
    "collapsed": true
   },
   "outputs": [],
   "source": [
    "# Read the input MESA profile                                                                                                                                                                                      \n",
    "mesa = MesaProfile('profile64.data')\n",
    "mstar = mesa.getStar()"
   ]
  },
  {
   "cell_type": "code",
   "execution_count": 3,
   "metadata": {
    "collapsed": false
   },
   "outputs": [
    {
     "name": "stdout",
     "output_type": "stream",
     "text": [
      "zone\n",
      "logT\n",
      "logRho\n",
      "logP\n",
      "logR\n",
      "luminosity\n",
      "logL\n",
      "velocity\n",
      "entropy\n",
      "conv_mixing_type\n",
      "csound\n",
      "v_div_csound\n",
      "v_div_r\n",
      "eta\n",
      "mu\n",
      "logdq\n",
      "dq_ratio\n",
      "q\n",
      "radius\n",
      "temperature\n",
      "tau\n",
      "logtau\n",
      "pressure\n",
      "pgas_div_ptotal\n",
      "logPgas\n",
      "grada\n",
      "cp\n",
      "logS\n",
      "gam\n",
      "free_e\n",
      "chiRho\n",
      "chiT\n",
      "abar\n",
      "zbar\n",
      "z2bar\n",
      "ye\n",
      "log_opacity\n",
      "eps_nuc\n",
      "non_nuc_neu\n",
      "eps_grav\n",
      "mlt_mixing_length\n",
      "log_D_mix\n",
      "log_conv_vel\n",
      "conv_vel_div_csound\n",
      "log_mlt_D_mix\n",
      "pressure_scale_height\n",
      "gradT\n",
      "gradr\n",
      "dlnd_dt\n",
      "dlnT_dt\n",
      "mass\n",
      "mmid\n",
      "logxq\n",
      "h1\n",
      "he3\n",
      "he4\n",
      "c12\n",
      "n14\n",
      "o16\n",
      "ne20\n",
      "mg24\n",
      "si28\n",
      "pp\n",
      "cno\n",
      "tri_alfa\n",
      "burn_c\n",
      "burn_n\n",
      "burn_o\n",
      "burn_ne\n",
      "burn_na\n",
      "burn_mg\n",
      "burn_si\n",
      "burn_s\n",
      "burn_ar\n",
      "burn_ca\n",
      "burn_ti\n",
      "burn_cr\n",
      "burn_fe\n",
      "c12_c12\n",
      "c12_o16\n",
      "o16_o16\n",
      "pnhe4\n",
      "photo\n",
      "other\n",
      "extra_heat\n",
      "gradr_sub_grada\n",
      "brunt_N2\n",
      "brunt_B\n",
      "brunt_nonB\n",
      "sign_brunt_N2\n",
      "lamb_S2\n",
      "lamb_S\n",
      "log_brunt_nu\n",
      "log_lamb_Sl2\n",
      "log_lamb_Sl3\n",
      "brunt_N_div_r_integral\n",
      "k_r_integral\n",
      "brunt_N2_sub_omega2\n",
      "sl2_sub_omega2\n",
      "logQ\n",
      "radiuscm\n",
      "model_number\n",
      "num_zones\n",
      "initial_mass\n",
      "initial_z\n",
      "star_age\n",
      "time_step\n",
      "Teff\n",
      "photosphere_L\n",
      "photosphere_r\n",
      "center_eta\n",
      "center_h1\n",
      "center_he3\n",
      "center_he4\n",
      "center_c12\n",
      "center_n14\n",
      "center_o16\n",
      "center_ne20\n",
      "star_mass\n",
      "star_mdot\n",
      "star_mass_h1\n",
      "star_mass_he3\n",
      "star_mass_he4\n",
      "star_mass_c12\n",
      "star_mass_n14\n",
      "star_mass_o16\n",
      "star_mass_ne20\n",
      "he_core_mass\n",
      "c_core_mass\n",
      "o_core_mass\n",
      "si_core_mass\n",
      "fe_core_mass\n",
      "neutron_rich_core_mass\n",
      "tau10_mass\n",
      "tau10_radius\n",
      "tau100_mass\n",
      "tau100_radius\n",
      "dynamic_time\n",
      "kh_timescale\n",
      "nuc_timescale\n",
      "power_nuc_burn\n",
      "power_h_burn\n",
      "power_he_burn\n",
      "power_neu\n",
      "burn_min1\n",
      "burn_min2\n"
     ]
    }
   ],
   "source": [
    "# List the data fields available in the profile\n",
    "for k in mstar.keys():\n",
    "    print(k)"
   ]
  },
  {
   "cell_type": "code",
   "execution_count": 4,
   "metadata": {
    "collapsed": false
   },
   "outputs": [
    {
     "name": "stdout",
     "output_type": "stream",
     "text": [
      "The MESA profile contains 9 isotopes.\n"
     ]
    }
   ],
   "source": [
    "# Find out what isotopes the profile contains\n",
    "isotope_list = mesa.getIsotopes()\n",
    "nisotopes = len(isotope_list)\n",
    "print('The MESA profile contains {} isotopes.'.format(nisotopes))"
   ]
  },
  {
   "cell_type": "code",
   "execution_count": 9,
   "metadata": {
    "collapsed": false
   },
   "outputs": [
    {
     "data": {
      "image/png": "[encoded data removed]",
      "text/plain": [
       "<matplotlib.figure.Figure at 0x7f5cd2738438>"
      ]
     },
     "metadata": {},
     "output_type": "display_data"
    }
   ],
   "source": [
    "# Plot the abundances in the profile                                                                                                                                                                                                     \n",
    "fig, ax = plt.subplots()\n",
    "colormap = plt.get_cmap('viridis')\n",
    "isocolors = [colormap(i) for i in np.linspace(0, 1, nisotopes)]\n",
    "\n",
    "legend_handles = []\n",
    "for i, isotope in enumerate(isotope_list):\n",
    "    handle = ax.plot(mstar['mass'], mstar[isotope], color=isocolors[i], label=isotope)\n",
    "    legend_handles.append(handle)\n",
    "    \n",
    "handles, labels = ax.get_legend_handles_labels()\n",
    "lgd = ax.legend(handles, labels, bbox_to_anchor=(1.05, 1), loc=2, borderaxespad=0.)\n",
    "ax.set_xlabel('Mass ($M_\\\\odot$)')\n",
    "ax.set_ylabel('Mass Fractions')\n",
    "plt.savefig('profile64.massfrac.png', bbox_extra_artists=(lgd,), bbox_inches='tight', dpi=300)"
   ]
  },
  {
   "cell_type": "code",
   "execution_count": 7,
   "metadata": {
    "collapsed": false
   },
   "outputs": [
    {
     "data": {
      "image/png": "[encoded data removed]",
      "text/plain": [
       "<matplotlib.figure.Figure at 0x7f5cd2904358>"
      ]
     },
     "metadata": {},
     "output_type": "display_data"
    }
   ],
   "source": [
    "# Plot the electron fraction (Ye) profile\n",
    "fig, ax = plt.subplots()\n",
    "ax.plot(mstar['mass'],mstar['ye'],'b')\n",
    "ax.set_xlabel('Mass ($M_\\\\odot$)')\n",
    "ax.set_ylabel('Electron Fraction ($\\\\mathrm{Y_e}$)')\n",
    "plt.savefig('profile64.ye.png', dpi=300)"
   ]
  },
  {
   "cell_type": "code",
   "execution_count": null,
   "metadata": {
    "collapsed": false
   },
   "outputs": [],
   "source": [
    "# Plot the density profile\n",
    "fig, ax = plt.subplots()\n",
    "ax.plot(mstar['mass'],10.0**mstar['logRho'],'b')\n",
    "ax.set_xlabel('Mass ($M_\\\\odot$)')\n",
    "ax.set_ylabel('Density ($g/cm^3$)')"
   ]
  },
  {
   "cell_type": "code",
   "execution_count": null,
   "metadata": {
    "collapsed": false
   },
   "outputs": [],
   "source": [
    "# Plot the temperature profile\n",
    "fig, ax = plt.subplots()\n",
    "ax.plot(mstar['mass'],10.0**mstar['logT'],'b')\n",
    "ax.set_xlabel('Mass ($M_\\\\odot$)')\n",
    "ax.set_ylabel('Temperature ($K$)')"
   ]
  },
  {
   "cell_type": "code",
   "execution_count": null,
   "metadata": {
    "collapsed": false
   },
   "outputs": [],
   "source": [
    "# Plot the mass-radius profile\n",
    "fig, ax = plt.subplots()\n",
    "ax.plot(mstar['radiuscm'],mstar['mass'],'b')\n",
    "ax.set_xlabel('Radius (cm)')\n",
    "ax.set_ylabel('Mass ($M_\\\\odot$)')"
   ]
  },
  {
   "cell_type": "code",
   "execution_count": null,
   "metadata": {
    "collapsed": true
   },
   "outputs": [],
   "source": []
  }
 ],
 "metadata": {
  "anaconda-cloud": {},
  "kernelspec": {
   "display_name": "Python [default]",
   "language": "python",
   "name": "python3"
  },
  "language_info": {
   "codemirror_mode": {
    "name": "ipython",
    "version": 3
   },
   "file_extension": ".py",
   "mimetype": "text/x-python",
   "name": "python",
   "nbconvert_exporter": "python",
   "pygments_lexer": "ipython3",
   "version": "3.5.2"
  }
 },
 "nbformat": 4,
 "nbformat_minor": 1
}
